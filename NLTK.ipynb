{
 "cells": [
  {
   "cell_type": "markdown",
   "metadata": {},
   "source": [
    "# NLTK = "
   ]
  },
  {
   "cell_type": "code",
   "execution_count": 1,
   "metadata": {},
   "outputs": [
    {
     "name": "stderr",
     "output_type": "stream",
     "text": [
      "[nltk_data] Downloading package punkt to\n",
      "[nltk_data]     C:\\Users\\SPK\\AppData\\Roaming\\nltk_data...\n",
      "[nltk_data]   Unzipping tokenizers\\punkt.zip.\n",
      "[nltk_data] Downloading package wordnet to\n",
      "[nltk_data]     C:\\Users\\SPK\\AppData\\Roaming\\nltk_data...\n",
      "[nltk_data]   Unzipping corpora\\wordnet.zip.\n",
      "[nltk_data] Downloading package tagsets to\n",
      "[nltk_data]     C:\\Users\\SPK\\AppData\\Roaming\\nltk_data...\n",
      "[nltk_data]   Unzipping help\\tagsets.zip.\n",
      "[nltk_data] Downloading package averaged_perceptron_tagger to\n",
      "[nltk_data]     C:\\Users\\SPK\\AppData\\Roaming\\nltk_data...\n",
      "[nltk_data]   Unzipping taggers\\averaged_perceptron_tagger.zip.\n"
     ]
    },
    {
     "data": {
      "text/plain": [
       "True"
      ]
     },
     "execution_count": 1,
     "metadata": {},
     "output_type": "execute_result"
    }
   ],
   "source": [
    "import nltk\n",
    "nltk.download(\"punkt\")\n",
    "nltk.download(\"wordnet\")\n",
    "nltk.download(\"tagsets\")\n",
    "nltk.download(\"averaged_perceptron_tagger\")\n"
   ]
  },
  {
   "cell_type": "code",
   "execution_count": 2,
   "metadata": {},
   "outputs": [
    {
     "name": "stdout",
     "output_type": "stream",
     "text": [
      "Jakarta is one of the oldest continuously inhabited cities in Southeast Asia. Established in the fourth century as Sunda Kelapa, the city became an important trading port for the Sunda Kingdom. It was the de facto capital of the Dutch East Indies when it was known as Batavia. Jakarta was as a city within West Java before 1960, when its official status changed to a province with special capital region distinction. Its provincial government consists of five administrative cities and one administrative regency. Jakarta is an alpha world city[11] and is the seat of the ASEAN secretariat,[12] making it an important city for international diplomacy.[13] Financial institutions such as the Bank of Indonesia, Indonesia Stock Exchange, and corporate headquarters of numerous Indonesian companies and multinational corporations are located in the city. In 2017, the city's GRP PPP was estimated at US$483.4 billion.[14][15]\n"
     ]
    }
   ],
   "source": [
    "data = \"Jakarta is one of the oldest continuously inhabited cities in Southeast Asia. Established in the fourth century as Sunda Kelapa, the city became an important trading port for the Sunda Kingdom. It was the de facto capital of the Dutch East Indies when it was known as Batavia. Jakarta was as a city within West Java before 1960, when its official status changed to a province with special capital region distinction. Its provincial government consists of five administrative cities and one administrative regency. Jakarta is an alpha world city[11] and is the seat of the ASEAN secretariat,[12] making it an important city for international diplomacy.[13] Financial institutions such as the Bank of Indonesia, Indonesia Stock Exchange, and corporate headquarters of numerous Indonesian companies and multinational corporations are located in the city. In 2017, the city's GRP PPP was estimated at US$483.4 billion.[14][15]\"\n",
    "print(data)"
   ]
  },
  {
   "cell_type": "code",
   "execution_count": 3,
   "metadata": {},
   "outputs": [
    {
     "data": {
      "text/plain": [
       "['Jakarta is one of the oldest continuously inhabited cities in Southeast Asia.',\n",
       " 'Established in the fourth century as Sunda Kelapa, the city became an important trading port for the Sunda Kingdom.',\n",
       " 'It was the de facto capital of the Dutch East Indies when it was known as Batavia.',\n",
       " 'Jakarta was as a city within West Java before 1960, when its official status changed to a province with special capital region distinction.',\n",
       " 'Its provincial government consists of five administrative cities and one administrative regency.',\n",
       " 'Jakarta is an alpha world city[11] and is the seat of the ASEAN secretariat,[12] making it an important city for international diplomacy.',\n",
       " '[13] Financial institutions such as the Bank of Indonesia, Indonesia Stock Exchange, and corporate headquarters of numerous Indonesian companies and multinational corporations are located in the city.',\n",
       " \"In 2017, the city's GRP PPP was estimated at US$483.4 billion.\",\n",
       " '[14][15]']"
      ]
     },
     "execution_count": 3,
     "metadata": {},
     "output_type": "execute_result"
    }
   ],
   "source": [
    "nltk.sent_tokenize(data)"
   ]
  },
  {
   "cell_type": "code",
   "execution_count": 4,
   "metadata": {},
   "outputs": [
    {
     "data": {
      "text/plain": [
       "['Jakarta',\n",
       " 'is',\n",
       " 'one',\n",
       " 'of',\n",
       " 'the',\n",
       " 'oldest',\n",
       " 'continuously',\n",
       " 'inhabited',\n",
       " 'cities',\n",
       " 'in',\n",
       " 'Southeast',\n",
       " 'Asia',\n",
       " '.',\n",
       " 'Established',\n",
       " 'in',\n",
       " 'the',\n",
       " 'fourth',\n",
       " 'century',\n",
       " 'as',\n",
       " 'Sunda',\n",
       " 'Kelapa',\n",
       " ',',\n",
       " 'the',\n",
       " 'city',\n",
       " 'became',\n",
       " 'an',\n",
       " 'important',\n",
       " 'trading',\n",
       " 'port',\n",
       " 'for',\n",
       " 'the',\n",
       " 'Sunda',\n",
       " 'Kingdom',\n",
       " '.',\n",
       " 'It',\n",
       " 'was',\n",
       " 'the',\n",
       " 'de',\n",
       " 'facto',\n",
       " 'capital',\n",
       " 'of',\n",
       " 'the',\n",
       " 'Dutch',\n",
       " 'East',\n",
       " 'Indies',\n",
       " 'when',\n",
       " 'it',\n",
       " 'was',\n",
       " 'known',\n",
       " 'as',\n",
       " 'Batavia',\n",
       " '.',\n",
       " 'Jakarta',\n",
       " 'was',\n",
       " 'as',\n",
       " 'a',\n",
       " 'city',\n",
       " 'within',\n",
       " 'West',\n",
       " 'Java',\n",
       " 'before',\n",
       " '1960',\n",
       " ',',\n",
       " 'when',\n",
       " 'its',\n",
       " 'official',\n",
       " 'status',\n",
       " 'changed',\n",
       " 'to',\n",
       " 'a',\n",
       " 'province',\n",
       " 'with',\n",
       " 'special',\n",
       " 'capital',\n",
       " 'region',\n",
       " 'distinction',\n",
       " '.',\n",
       " 'Its',\n",
       " 'provincial',\n",
       " 'government',\n",
       " 'consists',\n",
       " 'of',\n",
       " 'five',\n",
       " 'administrative',\n",
       " 'cities',\n",
       " 'and',\n",
       " 'one',\n",
       " 'administrative',\n",
       " 'regency',\n",
       " '.',\n",
       " 'Jakarta',\n",
       " 'is',\n",
       " 'an',\n",
       " 'alpha',\n",
       " 'world',\n",
       " 'city',\n",
       " '[',\n",
       " '11',\n",
       " ']',\n",
       " 'and',\n",
       " 'is',\n",
       " 'the',\n",
       " 'seat',\n",
       " 'of',\n",
       " 'the',\n",
       " 'ASEAN',\n",
       " 'secretariat',\n",
       " ',',\n",
       " '[',\n",
       " '12',\n",
       " ']',\n",
       " 'making',\n",
       " 'it',\n",
       " 'an',\n",
       " 'important',\n",
       " 'city',\n",
       " 'for',\n",
       " 'international',\n",
       " 'diplomacy',\n",
       " '.',\n",
       " '[',\n",
       " '13',\n",
       " ']',\n",
       " 'Financial',\n",
       " 'institutions',\n",
       " 'such',\n",
       " 'as',\n",
       " 'the',\n",
       " 'Bank',\n",
       " 'of',\n",
       " 'Indonesia',\n",
       " ',',\n",
       " 'Indonesia',\n",
       " 'Stock',\n",
       " 'Exchange',\n",
       " ',',\n",
       " 'and',\n",
       " 'corporate',\n",
       " 'headquarters',\n",
       " 'of',\n",
       " 'numerous',\n",
       " 'Indonesian',\n",
       " 'companies',\n",
       " 'and',\n",
       " 'multinational',\n",
       " 'corporations',\n",
       " 'are',\n",
       " 'located',\n",
       " 'in',\n",
       " 'the',\n",
       " 'city',\n",
       " '.',\n",
       " 'In',\n",
       " '2017',\n",
       " ',',\n",
       " 'the',\n",
       " 'city',\n",
       " \"'s\",\n",
       " 'GRP',\n",
       " 'PPP',\n",
       " 'was',\n",
       " 'estimated',\n",
       " 'at',\n",
       " 'US',\n",
       " '$',\n",
       " '483.4',\n",
       " 'billion',\n",
       " '.',\n",
       " '[',\n",
       " '14',\n",
       " ']',\n",
       " '[',\n",
       " '15',\n",
       " ']']"
      ]
     },
     "execution_count": 4,
     "metadata": {},
     "output_type": "execute_result"
    }
   ],
   "source": [
    "nltk.word_tokenize(data)"
   ]
  },
  {
   "cell_type": "markdown",
   "metadata": {},
   "source": [
    "### Morphological Analyssis\n",
    "      - Stemming     - faster, less accurate\n",
    "      - lemmatization - slower, more accurate"
   ]
  },
  {
   "cell_type": "code",
   "execution_count": 5,
   "metadata": {},
   "outputs": [
    {
     "data": {
      "text/plain": [
       "'car'"
      ]
     },
     "execution_count": 5,
     "metadata": {},
     "output_type": "execute_result"
    }
   ],
   "source": [
    "from nltk.stem import PorterStemmer\n",
    "ps = PorterStemmer()\n",
    "ps.stem('cars')"
   ]
  },
  {
   "cell_type": "code",
   "execution_count": 6,
   "metadata": {},
   "outputs": [
    {
     "data": {
      "text/plain": [
       "'box'"
      ]
     },
     "execution_count": 6,
     "metadata": {},
     "output_type": "execute_result"
    }
   ],
   "source": [
    "ps.stem('boxes')"
   ]
  },
  {
   "cell_type": "code",
   "execution_count": 7,
   "metadata": {},
   "outputs": [
    {
     "data": {
      "text/plain": [
       "'wive'"
      ]
     },
     "execution_count": 7,
     "metadata": {},
     "output_type": "execute_result"
    }
   ],
   "source": [
    "ps.stem('wives')"
   ]
  },
  {
   "cell_type": "code",
   "execution_count": 8,
   "metadata": {},
   "outputs": [
    {
     "data": {
      "text/plain": [
       "'wife'"
      ]
     },
     "execution_count": 8,
     "metadata": {},
     "output_type": "execute_result"
    }
   ],
   "source": [
    "from nltk.stem import WordNetLemmatizer\n",
    "wd = WordNetLemmatizer()\n",
    "wd.lemmatize('wives')"
   ]
  },
  {
   "cell_type": "code",
   "execution_count": 9,
   "metadata": {},
   "outputs": [
    {
     "data": {
      "text/plain": [
       "'child'"
      ]
     },
     "execution_count": 9,
     "metadata": {},
     "output_type": "execute_result"
    }
   ],
   "source": [
    "wd.lemmatize('children')"
   ]
  },
  {
   "cell_type": "markdown",
   "metadata": {},
   "source": [
    "### Part of speech tagging"
   ]
  },
  {
   "cell_type": "code",
   "execution_count": 12,
   "metadata": {},
   "outputs": [
    {
     "data": {
      "text/plain": [
       "[('John', 'NNP'),\n",
       " ('bought', 'VBD'),\n",
       " ('a', 'DT'),\n",
       " ('watch', 'NN'),\n",
       " ('in', 'IN'),\n",
       " ('Paris', 'NNP'),\n",
       " ('and', 'CC'),\n",
       " ('he', 'PRP'),\n",
       " ('lost', 'VBD'),\n",
       " ('it', 'PRP'),\n",
       " ('while', 'IN'),\n",
       " ('playing', 'VBG'),\n",
       " ('football', 'NN')]"
      ]
     },
     "execution_count": 12,
     "metadata": {},
     "output_type": "execute_result"
    }
   ],
   "source": [
    "data = \"John bought a watch in Paris and he lost it while playing football\"\n",
    "nltk.pos_tag(nltk.word_tokenize(data))"
   ]
  },
  {
   "cell_type": "code",
   "execution_count": 14,
   "metadata": {},
   "outputs": [
    {
     "name": "stdout",
     "output_type": "stream",
     "text": [
      "VBD: verb, past tense\n",
      "    dipped pleaded swiped regummed soaked tidied convened halted registered\n",
      "    cushioned exacted snubbed strode aimed adopted belied figgered\n",
      "    speculated wore appreciated contemplated ...\n"
     ]
    }
   ],
   "source": [
    "nltk.help.upenn_tagset('VBD')"
   ]
  },
  {
   "cell_type": "markdown",
   "metadata": {},
   "source": [
    "### Spelling Correction"
   ]
  },
  {
   "cell_type": "code",
   "execution_count": 15,
   "metadata": {},
   "outputs": [
    {
     "data": {
      "text/plain": [
       "1.0"
      ]
     },
     "execution_count": 15,
     "metadata": {},
     "output_type": "execute_result"
    }
   ],
   "source": [
    "nltk.jaccard_distance(set(\"apple\"),set('mongo'))"
   ]
  },
  {
   "cell_type": "code",
   "execution_count": 16,
   "metadata": {},
   "outputs": [],
   "source": [
    "dic = ['mango','banana','apple','grapes','orange']\n",
    "\n",
    "def recommend(word):\n",
    "    score = 1\n",
    "    ans = \"\"\n",
    "    for w in dic:\n",
    "        dist = nltk.jaccard_distance(set(w),set(word))\n",
    "        if dist<score:\n",
    "            score = dist\n",
    "            ans=w\n",
    "    return ans\n"
   ]
  },
  {
   "cell_type": "code",
   "execution_count": 25,
   "metadata": {},
   "outputs": [
    {
     "data": {
      "text/plain": [
       "'banana'"
      ]
     },
     "execution_count": 25,
     "metadata": {},
     "output_type": "execute_result"
    }
   ],
   "source": [
    "recommend('binili')"
   ]
  },
  {
   "cell_type": "code",
   "execution_count": null,
   "metadata": {},
   "outputs": [],
   "source": []
  }
 ],
 "metadata": {
  "kernelspec": {
   "display_name": "Python 3",
   "language": "python",
   "name": "python3"
  },
  "language_info": {
   "codemirror_mode": {
    "name": "ipython",
    "version": 3
   },
   "file_extension": ".py",
   "mimetype": "text/x-python",
   "name": "python",
   "nbconvert_exporter": "python",
   "pygments_lexer": "ipython3",
   "version": "3.8.3"
  }
 },
 "nbformat": 4,
 "nbformat_minor": 4
}
