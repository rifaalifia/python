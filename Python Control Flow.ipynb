{
 "cells": [
  {
   "cell_type": "markdown",
   "metadata": {},
   "source": [
    "**Python Control Flow**\n"
   ]
  },
  {
   "cell_type": "markdown",
   "metadata": {},
   "source": [
    "- If else\n",
    "- for loop - used to repeate a set of intructions, if the exact count of repeation is known\n",
    "- while loop - used to repeate a set of instructions, if the exact count of repeation is NOT known"
   ]
  },
  {
   "cell_type": "code",
   "execution_count": 2,
   "metadata": {},
   "outputs": [
    {
     "name": "stdout",
     "output_type": "stream",
     "text": [
      "enter your age22\n",
      "You entered your age as  22\n",
      "You are young now\n",
      "Explore the world and enjoy the life\n"
     ]
    }
   ],
   "source": [
    "age = input(\"enter your age\")\n",
    "age = int(age)\n",
    "print(\"You entered your age as \",age)\n",
    "\n",
    "if age<18:\n",
    "    print(\"You are a kid\")\n",
    "    print(\"I hope you are enjoying your school or college\")\n",
    "    print(\"Learn now to earn later\")\n",
    "elif age>=18 and age<25:\n",
    "    print(\"You are young now\")\n",
    "    print(\"Explore the world and enjoy the life\")\n",
    "elif age>=25 and age<40:\n",
    "    print(\"You are adult now\")\n",
    "    print(\"Earn money to enjoy your old age\")\n",
    "else:\n",
    "    print(\"You are getting old now\")\n",
    "    print(\"Its time to prepare for the second innings\")"
   ]
  },
  {
   "cell_type": "markdown",
   "metadata": {},
   "source": [
    "**loops**\n"
   ]
  },
  {
   "cell_type": "markdown",
   "metadata": {},
   "source": [
    "- for loop \n",
    "- used to repeat \n",
    "- while loop"
   ]
  },
  {
   "cell_type": "code",
   "execution_count": 3,
   "metadata": {},
   "outputs": [
    {
     "name": "stdout",
     "output_type": "stream",
     "text": [
      "hi from Python\n",
      "hi from Python\n",
      "hi from Python\n",
      "hi from Python\n",
      "hi from Python\n"
     ]
    }
   ],
   "source": [
    "print(\"hi from Python\")\n",
    "print(\"hi from Python\")\n",
    "print(\"hi from Python\")\n",
    "print(\"hi from Python\")\n",
    "print(\"hi from Python\")"
   ]
  },
  {
   "cell_type": "code",
   "execution_count": 4,
   "metadata": {
    "scrolled": true
   },
   "outputs": [
    {
     "name": "stdout",
     "output_type": "stream",
     "text": [
      "hi from Python\n",
      "hi from Python\n",
      "hi from Python\n",
      "hi from Python\n",
      "hi from Python\n"
     ]
    }
   ],
   "source": [
    "for i in range(5):\n",
    "    print(\"hi from Python\")"
   ]
  },
  {
   "cell_type": "code",
   "execution_count": 5,
   "metadata": {},
   "outputs": [
    {
     "name": "stdout",
     "output_type": "stream",
     "text": [
      "hi from Python 0\n",
      "hi from Python 1\n",
      "hi from Python 2\n",
      "hi from Python 3\n",
      "hi from Python 4\n"
     ]
    }
   ],
   "source": [
    "for i in range(5):\n",
    "    print(\"hi from Python\",i)"
   ]
  },
  {
   "cell_type": "code",
   "execution_count": 6,
   "metadata": {},
   "outputs": [
    {
     "name": "stdout",
     "output_type": "stream",
     "text": [
      "hi from Python 3\n",
      "hi from Python 4\n",
      "hi from Python 5\n",
      "hi from Python 6\n",
      "hi from Python 7\n",
      "hi from Python 8\n",
      "hi from Python 9\n",
      "hi from Python 10\n",
      "hi from Python 11\n"
     ]
    }
   ],
   "source": [
    "for i in range(3, 12):\n",
    "    print(\"hi from Python\",i)"
   ]
  },
  {
   "cell_type": "code",
   "execution_count": 7,
   "metadata": {},
   "outputs": [
    {
     "name": "stdout",
     "output_type": "stream",
     "text": [
      "hi from Python 3\n",
      "hi from Python 5\n",
      "hi from Python 7\n",
      "hi from Python 9\n",
      "hi from Python 11\n"
     ]
    }
   ],
   "source": [
    "for i in range(3, 12, 2):\n",
    "    print(\"hi from Python\",i)"
   ]
  },
  {
   "cell_type": "code",
   "execution_count": 8,
   "metadata": {},
   "outputs": [
    {
     "name": "stdout",
     "output_type": "stream",
     "text": [
      "ANSHU\n",
      "IAN\n",
      "ASTRID\n",
      "RIFA\n",
      "MUCHAMMAD\n"
     ]
    }
   ],
   "source": [
    "nm_list = ['Anshu', 'Ian', 'Astrid', 'Rifa', 'Muchammad']\n",
    "for i in nm_list:\n",
    "    print(i.upper())"
   ]
  },
  {
   "cell_type": "markdown",
   "metadata": {},
   "source": [
    "**while loop**"
   ]
  },
  {
   "cell_type": "code",
   "execution_count": 9,
   "metadata": {},
   "outputs": [
    {
     "name": "stdout",
     "output_type": "stream",
     "text": [
      "enter an even number 2\n",
      "you entered it correctly\n"
     ]
    }
   ],
   "source": [
    "while True:\n",
    "    ip = input(\"enter an even number \")\n",
    "    ip = int(ip)\n",
    "    if ip%2 ==0:\n",
    "        print(\"you entered it correctly\")\n",
    "        break"
   ]
  },
  {
   "cell_type": "code",
   "execution_count": 11,
   "metadata": {},
   "outputs": [
    {
     "name": "stdout",
     "output_type": "stream",
     "text": [
      "enter an even number 1\n",
      "enter an even number 3\n",
      "enter an even number 5\n",
      "enter an even number 6\n"
     ]
    }
   ],
   "source": [
    "ip =1\n",
    "while ip%2!=0:\n",
    "    ip = input(\"enter an even number \")\n",
    "    ip = int(ip)"
   ]
  },
  {
   "cell_type": "code",
   "execution_count": null,
   "metadata": {},
   "outputs": [],
   "source": []
  }
 ],
 "metadata": {
  "kernelspec": {
   "display_name": "Python 3",
   "language": "python",
   "name": "python3"
  },
  "language_info": {
   "codemirror_mode": {
    "name": "ipython",
    "version": 3
   },
   "file_extension": ".py",
   "mimetype": "text/x-python",
   "name": "python",
   "nbconvert_exporter": "python",
   "pygments_lexer": "ipython3",
   "version": "3.8.3"
  }
 },
 "nbformat": 4,
 "nbformat_minor": 4
}
